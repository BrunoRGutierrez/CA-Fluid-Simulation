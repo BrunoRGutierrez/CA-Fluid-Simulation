{
  "nbformat": 4,
  "nbformat_minor": 0,
  "metadata": {
    "colab": {
      "name": "MinimumGlobalCut.ipynb",
      "provenance": [],
      "collapsed_sections": [],
      "include_colab_link": true
    },
    "kernelspec": {
      "name": "python3",
      "display_name": "Python 3"
    }
  },
  "cells": [
    {
      "cell_type": "markdown",
      "metadata": {
        "id": "view-in-github",
        "colab_type": "text"
      },
      "source": [
        "<a href=\"https://colab.research.google.com/github/BrunoRGutierrez/CA-Fluid-Simulation/blob/master/MinimumGlobalCut.ipynb\" target=\"_parent\"><img src=\"https://colab.research.google.com/assets/colab-badge.svg\" alt=\"Open In Colab\"/></a>"
      ]
    },
    {
      "cell_type": "code",
      "metadata": {
        "id": "NOqG42ykV22L",
        "colab_type": "code",
        "colab": {}
      },
      "source": [
        "import numpy as np\n",
        "#Insert a valid adjacejcy matrix (from a simple undirected connected graph)\n",
        "M = np.matrix([[0,1,1],[1,0,1],[1,1,0]])"
      ],
      "execution_count": 0,
      "outputs": []
    },
    {
      "cell_type": "code",
      "metadata": {
        "id": "X7ihzOM4wUEe",
        "colab_type": "code",
        "colab": {}
      },
      "source": [
        "def elegible_edges(M):\n",
        "  #Add all edges to a list R\n",
        "  n = len(M) #range of the matrix\n",
        "  R = []\n",
        "  for i in range(n-1):\n",
        "    for j in range(i+1,n):\n",
        "      #print([i,j])\n",
        "      if M[i,j] > 0:\n",
        "        R.append([i,j])\n",
        "        #print(R)\n",
        "  return R \n",
        "\n",
        "#edges_list = elegible_edges(M)\n",
        "#print(edges_list)"
      ],
      "execution_count": 0,
      "outputs": []
    },
    {
      "cell_type": "code",
      "metadata": {
        "id": "HB6gr2Z4-4sz",
        "colab_type": "code",
        "colab": {}
      },
      "source": [
        "import random\n",
        "\n",
        "def random_edge(list_edges):\n",
        "  #select without replacement a random edge form de list\n",
        "  r_edge = random.choice(list_edges)\n",
        "  #list_edges.remove(r_edge)\n",
        "  return r_edge, list_edges\n",
        "\n",
        "#r_edge, edges_list = random_edge(list_edges)\n",
        "#print(r_edge)\n",
        "#print(list_edges)"
      ],
      "execution_count": 0,
      "outputs": []
    },
    {
      "cell_type": "code",
      "metadata": {
        "id": "B1fIVf8cA92e",
        "colab_type": "code",
        "colab": {}
      },
      "source": [
        "#n = len(M)\n",
        "#nodes_list = [[i] for i in range(n)]\n",
        "#nodes_list[0].append(8)\n",
        "#print(nodes_list) \n",
        "\n",
        "def merge_nodes(edge, nodes_list,n):\n",
        "  #Giving a (i,j) edge, we merge the nodes_list[i],nodes_list[j] into the minimum of both and clear the other one.\n",
        "  for i in range(n):\n",
        "    if edge[0] in nodes_list[i]:\n",
        "      for j in range(i+1,n):\n",
        "        if edge[1] in nodes_list[j]:\n",
        "          nodes_list[i].extend(nodes_list[j])\n",
        "          nodes_list[j].clear()\n",
        "          nodes_list[i].sort()\n",
        "          #print('merge function ', nodes_list[i])\n",
        "          break\n",
        "      break\n",
        "          #print(nodes_list[i])\n",
        "          #print(nodes_list)\n",
        "    else:\n",
        "      if edge[1] in nodes_list[i]:\n",
        "        for j in range(i+1,n):\n",
        "          if edge[0] in nodes_list[j]:\n",
        "            nodes_list[i].extend(nodes_list[j])\n",
        "            nodes_list[j].clear()\n",
        "            nodes_list[i].sort()\n",
        "            #print('merge function ', nodes_list[i])\n",
        "            break\n",
        "        break\n",
        "  return nodes_list, i\n",
        "\n",
        "\n",
        "#nodes_list, big_node = merge_nodes(r_edge,nodes_list)\n",
        "#print(nodes_list)\n",
        "#print(big_node)"
      ],
      "execution_count": 0,
      "outputs": []
    },
    {
      "cell_type": "code",
      "metadata": {
        "id": "8NcbhRldIs-8",
        "colab_type": "code",
        "colab": {}
      },
      "source": [
        "import itertools\n",
        "\n",
        "\n",
        "def remove_edges(nodes_list,big_node,edges_list,M):\n",
        "  #delete all the edges betwen the nodes of the new big node\n",
        "  #print(nodes_list[big_node])\n",
        "  #print(list_edges)\n",
        "  for pair in itertools.combinations(nodes_list[big_node], 2):\n",
        "    #print(pair)\n",
        "    if M[pair] >0:\n",
        "      i,j = pair\n",
        "      #print('paso el pair ', pair)\n",
        "      #print(M[pair])\n",
        "      M[pair] = 0\n",
        "      M[j,i] = 0\n",
        "      #print(M[pair])\n",
        "      edges_list.remove([i,j])\n",
        "  return edges_list,M\n",
        "\n",
        "\n",
        "\n",
        "\n",
        "#edges_list,M = remove_edges(nodes_list,big_node,list_edges,M)\n",
        "#print(edges_list)\n",
        "#print(M)"
      ],
      "execution_count": 0,
      "outputs": []
    },
    {
      "cell_type": "code",
      "metadata": {
        "id": "kKb5ayFZou7p",
        "colab_type": "code",
        "colab": {}
      },
      "source": [
        "def MinimumGlobalCut(M):\n",
        "  #Input: An adyacence matrix of a simple conected graph, n > 1.\n",
        "  #Output: An adyacence matrix of a graph that show the minimum global cut with probability at least 2/(n(n − 1)) \n",
        "  n = len(M)\n",
        "  edges_list = elegible_edges(M)\n",
        "  #print(edges_list) \n",
        "  nodes_list = [[i] for i in range(n)]\n",
        "  #print(nodes_list)\n",
        "  for k in range(n-2):\n",
        "    r_edge, edges_list = random_edge(edges_list)\n",
        "    #print('r_edge', r_edge)\n",
        "    nodes_list, big_node = merge_nodes(r_edge,nodes_list,n)\n",
        "    #print(nodes_list)\n",
        "    #print(big_node)\n",
        "    edges_list,M = remove_edges(nodes_list,big_node,edges_list,M)\n",
        "    #print(edges_list)\n",
        "    #print(M)\n",
        "  return M, edges_list\n"
      ],
      "execution_count": 0,
      "outputs": []
    },
    {
      "cell_type": "code",
      "metadata": {
        "id": "buLmXLCZVhz7",
        "colab_type": "code",
        "colab": {}
      },
      "source": [
        "#Instert a valid adyacence matrix\n",
        "M = np.matrix([[0,1,1,1,1,1,1,1,1],\n",
        "               [1,0,1,1,1,1,1,1,1],\n",
        "               [1,1,0,1,1,1,1,1,1],\n",
        "               [1,1,1,0,1,1,1,1,1],\n",
        "               [1,1,1,1,0,1,1,1,1],\n",
        "               [1,1,1,1,1,0,1,1,1],\n",
        "               [1,1,1,1,1,1,0,1,1],\n",
        "               [1,1,1,1,1,1,1,0,1],\n",
        "               [1,1,1,1,1,1,1,1,0]])"
      ],
      "execution_count": 0,
      "outputs": []
    },
    {
      "cell_type": "code",
      "metadata": {
        "id": "9oM1gxweoNxl",
        "colab_type": "code",
        "outputId": "33ff66a5-ced1-412a-a31f-3826869800fe",
        "colab": {
          "base_uri": "https://localhost:8080/",
          "height": 208
        }
      },
      "source": [
        "#Ejecut the algorithm\n",
        "n = len(M)\n",
        "M, edges_list = MinimumGlobalCut(M)\n",
        "print(M)\n",
        "p = 2/(n*(n-1))\n",
        "print('Those are the edges of a min cut set with probability at least', p,':')\n",
        "print(edges_list)"
      ],
      "execution_count": 0,
      "outputs": [
        {
          "output_type": "stream",
          "text": [
            "[[0 1 1 1 1 1 1 1 1]\n",
            " [1 0 0 0 0 0 0 0 0]\n",
            " [1 0 0 0 0 0 0 0 0]\n",
            " [1 0 0 0 0 0 0 0 0]\n",
            " [1 0 0 0 0 0 0 0 0]\n",
            " [1 0 0 0 0 0 0 0 0]\n",
            " [1 0 0 0 0 0 0 0 0]\n",
            " [1 0 0 0 0 0 0 0 0]\n",
            " [1 0 0 0 0 0 0 0 0]]\n",
            "Those are the edges of a min cut set with probability at least 0.027777777777777776 :\n",
            "[[0, 1], [0, 2], [0, 3], [0, 4], [0, 5], [0, 6], [0, 7], [0, 8]]\n"
          ],
          "name": "stdout"
        }
      ]
    }
  ]
}